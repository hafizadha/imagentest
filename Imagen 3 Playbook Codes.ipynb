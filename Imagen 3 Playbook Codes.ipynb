{
 "cells": [
  {
   "cell_type": "markdown",
   "metadata": {
    "id": "ckAx2rBQFFa9"
   },
   "source": [
    "# **Imagen 3: Hands On Coding Lab Session**\n"
   ]
  },
  {
   "cell_type": "markdown",
   "metadata": {
    "id": "KSyT_DAmGYhb"
   },
   "source": [
    "## **Overview**\n",
    "\n",
    "### **Imagen 3: Google's Most Advanced Text-to-Image Model**\n",
    "Imagen 3 is the latest and most capable text-to-image generation model developed by Google DeepMind. It represents a significant leap forward from its predecessor, Imagen 2, focusing on enhanced prompt understanding, photorealism, and particularly, accurate text rendering within images.\n",
    "\n",
    "### **Agenda**\n",
    "\n",
    "In this lab session, you will learn how to use the Vertex AI SDK for Python to interact with the Imagen 3/Imagen 3 Fast models to generate images and use other AI model for image verification"
   ]
  },
  {
   "cell_type": "markdown",
   "metadata": {
    "id": "ibe6-t9fFsxk",
    "tags": []
   },
   "source": [
    "## Section 1: **Setting Up**"
   ]
  },
  {
   "cell_type": "markdown",
   "metadata": {
    "id": "x2lXxZfnLwca"
   },
   "source": [
    "### **Import libraries**\n",
    "\n",
    "The **Vertex AI SDK** for Python acts as a bridge between your Python codebase and Google Cloud Platform's (GCP) machine learning services. This makes it easy for you to access and utilize powerful Google AI models, like Imagen for generating images or Gemini for advanced language tasks, directly within your notebooks or other Python environments\n"
   ]
  },
  {
   "cell_type": "code",
   "execution_count": null,
   "metadata": {
    "id": "nWe64xYju98p",
    "tags": []
   },
   "outputs": [],
   "source": [
    "import vertexai\n",
    "from vertexai.preview.vision_models import ImageGenerationModel"
   ]
  },
  {
   "cell_type": "markdown",
   "metadata": {
    "id": "gkftFZ65zejh"
   },
   "source": [
    "### **Setting Up Configurations**\n",
    "\n",
    "\n",
    "To use Vertex AI SDK, you will need a GCP Project with Vertex AI API enabled."
   ]
  },
  {
   "cell_type": "code",
   "execution_count": null,
   "metadata": {
    "id": "V1d9acBJvjzt",
    "tags": []
   },
   "outputs": [],
   "source": [
    "PROJECT_ID = \"<your-project-id>\"\n",
    "LOCATION = \"<location>\" #default \"us-central1\""
   ]
  },
  {
   "cell_type": "markdown",
   "metadata": {
    "id": "-yHwaY00y6u7"
   },
   "source": [
    "### **Initialize Vertex AI**\n",
    "\n",
    "You need to initialize the Vertex AI SDK to configure it with your specific project ID, and location, to authenticate and communicate with the correct Google Cloud AI services."
   ]
  },
  {
   "cell_type": "code",
   "execution_count": null,
   "metadata": {
    "colab": {
     "base_uri": "https://localhost:8080/"
    },
    "id": "qWKEognzy6Im",
    "outputId": "0d7075be-66a0-485b-89ef-53ae95c4583f",
    "tags": []
   },
   "outputs": [],
   "source": [
    "vertexai.init(project=PROJECT_ID, location=LOCATION)\n",
    "print(\"Vertex AI Initialized\")"
   ]
  },
  {
   "cell_type": "markdown",
   "metadata": {
    "id": "RaxmiCPpzUyI"
   },
   "source": [
    "## **Section 2: Creating Images**\n",
    "\n",
    "\n",
    "\n",
    "\n",
    "\n"
   ]
  },
  {
   "cell_type": "markdown",
   "metadata": {
    "id": "bohNboAATGwi"
   },
   "source": [
    "### **Load AI Models**\n",
    "Here are the current Image Generation AI model you can use:\n",
    "\n",
    "*   Imagen 3 (latest version) : ```imagen-3.0-generate-002 ```\n",
    "*   Imagen 3 :  ```imagen-3.0-generate-001 ```\n",
    "*   Imagen 3 Fast: ```imagen-3.0-fast-generate-001```"
   ]
  },
  {
   "cell_type": "code",
   "execution_count": null,
   "metadata": {
    "id": "MOoLHFQbvoEE",
    "tags": []
   },
   "outputs": [],
   "source": [
    "model_id = \"<model-id>\"\n",
    "\n",
    "model = ImageGenerationModel.from_pretrained(model_version)"
   ]
  },
  {
   "cell_type": "markdown",
   "metadata": {
    "id": "DvxKmkcmPZ8p"
   },
   "source": [
    "### **Generate your first image**\n",
    "\n",
    "`generate_images() `function to create images. This function needs two parameters:\n",
    "\n",
    "- `prompt`: Tells AI what image to create\n",
    "- `number_of_images`: How many images to generate (up to 4)"
   ]
  },
  {
   "cell_type": "code",
   "execution_count": null,
   "metadata": {
    "id": "nTvb1vkXPagt",
    "tags": []
   },
   "outputs": [],
   "source": [
    "images = model.generate_images(\n",
    "    prompt=\"a pizza on a plate\",\n",
    "    number_of_images=1\n",
    ")\n",
    "\n",
    "images[0].show()"
   ]
  },
  {
   "cell_type": "markdown",
   "metadata": {
    "id": "KYMezQrLC7DA"
   },
   "source": [
    "### **Saving your image**"
   ]
  },
  {
   "cell_type": "code",
   "execution_count": null,
   "metadata": {
    "id": "RhRFIhh1CM3f",
    "tags": []
   },
   "outputs": [],
   "source": [
    "images[0].save(\"name.filetype\")"
   ]
  },
  {
   "cell_type": "markdown",
   "metadata": {
    "id": "6DsptNnLEe_p"
   },
   "source": [
    "### **Exploring Parameters**\n",
    "\n",
    "\n",
    "\n",
    "\n",
    "You can use extra settings to get images exactly how you want them.\n",
    "**Note: Optional Parameters only work for the `imagen-3.0-generate-001` and `imagen-3.0-fast-generate-001`**\n",
    "\n",
    "\n",
    "\n",
    "\n",
    "\n",
    "\n",
    "\n",
    "\n",
    "**Imagen Model Parameters:**\n",
    "\n",
    "- `negative_prompt` : This tells our AI what not to include in our images. You can list out those things within this the parameter (e.g., \"blurry, text, ugly\").\n",
    "\n",
    "\n",
    "\n",
    "\n",
    "- `guidance_scale`: This controls how closely the AI sticks to your prompt. A higher value makes the AI follow your instructions very strictly. A lower value gives the AI more creative freedom. Here are the supported value ranges:\n",
    "  - Low values : 1-3  (The model will have more freedom in generating images, can produce more abstracts results)\n",
    "  - Medium values: 4-7 (Balanced range)\n",
    "  - High values: 8+ (The model will strictly follow the prompts)\n",
    "\n",
    "\n",
    "\n",
    "- `aspect_ratio`: Changes the aspect ratio of the generated image. Supported values are:\n",
    "  - 1:1 (default)\n",
    "  - 3:4\n",
    "  - 4:3\n",
    "  - 9:16\n",
    "  - 16:9\n",
    "\n",
    "\n"
   ]
  },
  {
   "cell_type": "code",
   "execution_count": null,
   "metadata": {
    "id": "9HC5Ab9ZEnq6",
    "tags": []
   },
   "outputs": [],
   "source": [
    "supported_model = \"imagen-3.0-generate-001\"\n",
    "\n",
    "model = ImageGenerationModel.from_pretrained(supported_model)\n",
    "\n",
    "images = model.generate_images(\n",
    "  prompt=\"a pizza on a plate\",\n",
    "  number_of_images=1,\n",
    "  negative_prompt= \"pepperoni, cheese, basil, egg\"\n",
    ")\n",
    "\n",
    "# Optional. View the generated image in a notebook.\n",
    "images[0].show()"
   ]
  },
  {
   "cell_type": "markdown",
   "metadata": {
    "id": "5eB9nud_Nk02"
   },
   "source": [
    "## **Section 3: Responsible AI**"
   ]
  },
  {
   "cell_type": "markdown",
   "metadata": {
    "id": "uYbet_oUDSey",
    "tags": []
   },
   "source": [
    "### **SynthID Verification**"
   ]
  },
  {
   "cell_type": "code",
   "execution_count": null,
   "metadata": {
    "colab": {
     "base_uri": "https://localhost:8080/"
    },
    "id": "lw7Ajy-MlLwq",
    "outputId": "870311a2-4f49-4206-bd30-d1d6ecd4d485",
    "tags": []
   },
   "outputs": [],
   "source": [
    "from vertexai.preview.vision_models import WatermarkVerificationModel\n",
    "\n",
    "verification_model = WatermarkVerificationModel.from_pretrained(\n",
    "    \"imageverification@001\"\n",
    ")\n",
    "\n",
    "watermark_verification_response = verification_model.verify_image(images[0])\n",
    "\n",
    "if (watermark_verification_response.watermark_verification_result == \"ACCEPT\"):\n",
    "    print(\"This picture is AI Generated\")\n",
    "else:\n",
    "    print(\"This picture is real\")"
   ]
  },
  {
   "cell_type": "code",
   "execution_count": null,
   "metadata": {
    "colab": {
     "base_uri": "https://localhost:8080/"
    },
    "id": "A8i6m8p1u0A2",
    "outputId": "7784090f-fd39-4354-f764-67f53f67fb77",
    "tags": []
   },
   "outputs": [],
   "source": [
    "from vertexai.preview.vision_models import Image\n",
    "\n",
    "filepath = \"/home/jupyter/<filepath>\"\n",
    "img = Image.load_from_file(filepath)\n",
    "\n",
    "watermark_verification_response = verification_model.verify_image(img)\n",
    "\n",
    "print(watermark_verification_response.watermark_verification_result)"
   ]
  },
  {
   "cell_type": "markdown",
   "metadata": {
    "id": "R3adE3lJDxNd"
   },
   "source": [
    "## **Lab Activity: Emoji Scene Maker**\n",
    "\n",
    "\n",
    "In this fun and creative lab activity, we’ll be building an Emoji Scene Generator! Since Imagen 3 doesn’t quite understand emojis on its own, we’ll get a little help from another awesome Google AI model — Gemini — to bring our emoji-inspired scenes to life. Let’s explore how we can combine the power of different AI tools to turn simple emojis into vivid image prompts!"
   ]
  },
  {
   "cell_type": "markdown",
   "metadata": {
    "id": "cdIqSZALpsk5"
   },
   "source": [
    "## Step 1: Importing Libraries\n",
    "\n"
   ]
  },
  {
   "cell_type": "code",
   "execution_count": null,
   "metadata": {
    "id": "3rl7h05gpy_O"
   },
   "outputs": [],
   "source": []
  },
  {
   "cell_type": "markdown",
   "metadata": {},
   "source": [
    "<details>\n",
    "  <summary>Click here to show the full code</summary>\n",
    "\n",
    "```\n",
    "\n",
    "import vertexai\n",
    "from vertexai.preview.vision_models import ImageGenerationModel\n",
    "from vertexai.generative_models import GenerativeModel\n",
    "\n",
    "```"
   ]
  },
  {
   "cell_type": "markdown",
   "metadata": {
    "id": "l9fglLrdrqIY"
   },
   "source": [
    "## Step 2: Configure and Initialize Vertex AI"
   ]
  },
  {
   "cell_type": "code",
   "execution_count": null,
   "metadata": {
    "id": "CFHN41WUrzwz"
   },
   "outputs": [],
   "source": []
  },
  {
   "cell_type": "markdown",
   "metadata": {},
   "source": [
    "<details>\n",
    "  <summary>Click here to show the full code</summary>\n",
    "\n",
    "```\n",
    "\n",
    "PROJECT_ID = \"\"\n",
    "LOCATION = \"\"          \n",
    "\n",
    "vertexai.init(project=PROJECT_ID, location=LOCATION)\n",
    "\n",
    "```"
   ]
  },
  {
   "cell_type": "markdown",
   "metadata": {
    "id": "P16JwvVmr0N2"
   },
   "source": [
    "## Step 3: Load Models\n",
    "\n",
    "- Imagen 3 : ```imagen-3.0-generate-002 ```, OR ```imagen-3.0-generate-001 ```, OR ```imagen-3.0-fast-generate-001```\n",
    "- Gemini 2.0: ```gemini-2.0-flash```"
   ]
  },
  {
   "cell_type": "code",
   "execution_count": null,
   "metadata": {
    "id": "HVwgLAXtyhZH"
   },
   "outputs": [],
   "source": []
  },
  {
   "cell_type": "markdown",
   "metadata": {},
   "source": [
    "<details>\n",
    "  <summary>Click here to show the full code</summary>\n",
    "\n",
    "```\n",
    "\n",
    "GEMINI_MODEL_ID = \"gemini-2.0-flash\"\n",
    "IMAGEN_MODEL_ID = \"imagen-3.0-generate-002\"\n",
    "\n",
    "model = ImageGenerationModel.from_pretrained(IMAGEN_MODEL_ID)\n",
    "gemini_model = GenerativeModel(GEMINI_MODEL_ID)\n",
    "print(\"✅ Vertex AI Initialized and models are loaded\")\n",
    "```"
   ]
  },
  {
   "cell_type": "markdown",
   "metadata": {
    "id": "QRlI26WlytER"
   },
   "source": [
    "## Step 4: Create Interface Widgets\n",
    "\n",
    "Create a text field to input image and a generate button"
   ]
  },
  {
   "cell_type": "code",
   "execution_count": null,
   "metadata": {
    "id": "raY9_pQlI-ke"
   },
   "outputs": [],
   "source": [
    "import ipywidgets as widgets"
   ]
  },
  {
   "cell_type": "markdown",
   "metadata": {},
   "source": [
    "<details>\n",
    "  <summary>Click here to show the full code</summary>\n",
    "\n",
    "```\n",
    "\n",
    "import ipywidgets as widgets\n",
    "\n",
    "emoji_input = widgets.Text( # Changed from Textarea to Text\n",
    "    description='Emojis:', # Added description\n",
    ")\n",
    "# *** Modify Button Description ***\n",
    "generate_button = widgets.Button(description=\"🤣 Generate\", button_style='success')\n",
    "\n"
   ]
  },
  {
   "cell_type": "markdown",
   "metadata": {
    "id": "VIOwoz91yhxz"
   },
   "source": [
    "## Step 5 : Declare Functions for Text and Image Generation\n",
    "\n",
    "Create two functions:\n",
    "- emojis_to_prompt : Analyse emojis then generate prompt using Gemini Model\n",
    "- prompt_to_image : Pass generated prompt from Gemini to Imagen to create our image\n",
    "\n",
    "\n",
    "**Copy paste this prompt to send to Gemini**\n",
    "```\n",
    "        Analyze these emojis: {emojis} .If none is given, choose it yourself.\n",
    "\n",
    "        Create a short (1-2 sentences) and highly visual scene description\n",
    "        based *only* on the concepts represented by these emojis. Combine the concepts in an\n",
    "        unexpected, or absurd way. The description should be suitable as a prompt\n",
    "        for Imagen 3. ONLY show the short sentence(s) as your response without any other texts.\n",
    "\n",
    "        \n",
    "```"
   ]
  },
  {
   "cell_type": "code",
   "execution_count": null,
   "metadata": {
    "id": "nlj_sK5hysv7"
   },
   "outputs": [],
   "source": [
    "def emojis_to_prompt(button):\n",
    "\n",
    "\n",
    "\n",
    "def prompt_to_image(prompt):\n"
   ]
  },
  {
   "cell_type": "markdown",
   "metadata": {},
   "source": [
    "<details>\n",
    "  <summary>Click here to show the full code</summary>\n",
    "\n",
    "    \n",
    "```\n",
    "def emojis_to_prompt(button):\n",
    "    emojis = emoji_input.value.strip()\n",
    "\n",
    "    funny_prompt_text = None # Initialize variable\n",
    "\n",
    "    print(f\"Calling Gemini ({GEMINI_MODEL_ID}) with emojis: '{emojis}'...\")\n",
    "\n",
    "    gemini_prompt_for_prompt = f\"\"\"\n",
    "        Analyze these emojis: {emojis} .If none is given, choose it yourself.\n",
    "\n",
    "        Create a short (1-2 sentences) and highly visual scene description\n",
    "        based *only* on the concepts represented by these emojis. Combine the concepts in an\n",
    "        unexpected, or absurd way. The description should be suitable as a prompt\n",
    "        for Imagen 3. ONLY show the short sentence(s) as your response without any other texts.\n",
    "\n",
    "        \"\"\"\n",
    "\n",
    "    response = gemini_model.generate_content(gemini_prompt_for_prompt)\n",
    "    \n",
    "\n",
    "    funny_prompt_text = response.text.strip()\n",
    "    \n",
    "    print(f\"✅ Gemini Prompt: '{funny_prompt_text}'\")\n",
    "    print(f\"🎨 Now calling Imagen ({IMAGEN_MODEL_ID})...\")\n",
    "    generate_image(funny_prompt_text)\n",
    "\n",
    "\n",
    "\n",
    "def prompt_to_image(prompt):\n",
    "    final_prompt = prompt + \" Style: 3D art\"\n",
    "    response_imagen = model.generate_images(\n",
    "        prompt=final_prompt,\n",
    "        number_of_images=1,\n",
    "        aspect_ratio=\"3:4\", # Hardcoded square aspect ratio\n",
    "    )\n",
    "\n",
    "    response_imagen[0].show()\n",
    "\n",
    "    generate_button.disabled = False\n",
    "    generate_button.description = \"🤣 Generate Funny Scene\"\n",
    "    generate_button.icon = 'paint-brush'\n",
    "\n",
    "\n",
    "```"
   ]
  },
  {
   "cell_type": "markdown",
   "metadata": {
    "id": "9RmC6U2DKx3U"
   },
   "source": [
    "## Final Step : Run your interface!\n",
    "\n",
    "Add function to our generate button and display the UI interface"
   ]
  },
  {
   "cell_type": "code",
   "execution_count": null,
   "metadata": {
    "id": "bSlAPvHyKxCZ"
   },
   "outputs": [],
   "source": []
  },
  {
   "cell_type": "markdown",
   "metadata": {},
   "source": [
    "<details>\n",
    "    <summary>Click here to show the full code</summary>\n",
    "        \n",
    "        \n",
    "```\n",
    "generate_button.on_click(generate_prompt_from_emojis)\n",
    "\n",
    "print(\"--- Funny Emoji Scene Maker ---\") # Updated title\n",
    "# *** Display modified input widget ***\n",
    "display(widgets.VBox([emoji_input, generate_button]))\n",
    "```"
   ]
  },
  {
   "cell_type": "markdown",
   "metadata": {},
   "source": [
    "## 😀 😃 😄 😁 😆 😅 🤣 😂 🥲 😊 😇 🥰 😍 🤩 😘 😗 😙 😚 🙂 🫠 😉 🤨 🧐 🤓 😎 🥸 😔 🥺 😟 😥 😢 😭 😨 😩 🤯 😬 😮‍💨 🥶 🥵 😳 😱 😖 😞 😓 🤢 🤮 🤧 🤕 🥴 😵‍💫 🤯 😇 🤠 🤡 👹 👺 👻 👽 👾 🤖 👋 🖐️ ✋ 🤚 🖖 👌 🤌 🤏 🤞 🫶 🙏 👏 🙌 🫶 🤝 🫂 👤 👥 👣 🐶 🐱 🐭 🐹 🐰 🦊 🐻 🐼 🐨 🐯 🦁 🐮 🐷 🐸 🐒 🐔 🐧 🐦 🦉 🦇 🦋 🐛 🐜 🐝 🐞 🐌 🦀 🐍 🦎 🐢 🐠 🐡 🐬 🐳 🦈 🐙 🐚 🪴 🌱 🌿 ☘️ 🍀 🍁 🍂 🍃 🌸 🌷 🌹 🌻 🌼 🌺 🍄 🌳 🌴 🌵 🍎 🍏 🍌 🍓 🍇 🍉 🍊 🍋 🥭 🍍 🥝 🥑 🍅 🍆 🥕 🌽 🌶️ 🥔 🧅 🧄 🥦 🥬 🥒 🫑 🍗 🍖 🥓 🍔 🍟 🍕 🌭 🥪 🌮 🌯 🍜 🍝 🍙 🍚 🍛 🍣 🍤 🍦 🍧 🍨 🍩 🍪 🎂 🍰 🧁 🍫 🍬 🍭 🍮 🍯 🍿 🧂 🧈 🍳 🧇 🥞 🥨 🥩 🥪 🥣 🥗 🍿 🥫 🥟 🦪 🍫 🍺 🍻 🥂 🍷 🥃 🍸 🍹 🧉 🧊 🥤 ☕ 🍵 🍶 🍼 🥛 🫖 🫘 ⚽ 🏀 🏈 ⚾ 🥎 🎾 🏐 🏉 🥏 🎳 🏏 🏑 🏒 🥍 🪁 🎣 🛶 🏊 🏄 🚴 🚵 🤸‍♀️ 🏋️‍♂️ 🏌️‍♂️ 🧘‍♀️ 🧗‍♂️ 🏇 🏂 ⛷️ ⛸️ 🏹 🎯 🎮 🎰 🚗 🚕 🚓 🚑 🚒 🚌 🚂 ✈️ 🚀 🚢 🚤 ⛵ 🚲 🛴 🛵 🛸 🛰️ 🚠 🚡 🚦 🚧 ⛽ 🗺️ 🏔️ 🌋 🏜️ 🏝️ 🏞️ 🏖️ 🏕️ 🛤️ 🌅 🌄 🌃 🌠 🎇 🎆 🌈 🌉 🏠 🏘️ 🏰 🏢 🏭 🗼 🗽 🗿 ⌚ 📱 💻 ⌨️ 🖱️ 🖨️ 🕹️ 📸 🔦 📺 📻 💾 💿 📼 📷 📹 🎥 🎬 🎤 🎧 🎼 🎹 🥁 🎷 🎺 🎸 🎻 🪕 🎵 🎶 🎙️ 📻 📱 📞 📟 📠 🔋 🔌 💡 💸 💵 💶 💷 💴 💰 💳 💎 ⚖️ 💼 👜 🎒 👔 👕 👖 👗 👘 🥻 🩱 🩳 🧥 🧤 🧣 🧢 👒 🎓 👑 💍 👓 🥽 💄 💋 👣 🧵 🧶 🪡 🧸 🪁 🪄 🎈 🎉 🎊 🎎 🎏 🎐 🪅 🪆 🎭 🖼️ 🧵 🧶 🪡 🧸 🪁 🪄 🎈 🎉 🎊 🎎 🎏 🎐 🪅 🪆 ⌚ 📱 💻 ⌨️ 🖱️ 🖨️ 🕹️ 📸 🔦 📺 📻 💾 💿 📼 📷 📹 🎥 🎬 🎤 🎧 🎼 🎹 🥁 🎷 🎺 🎸 🎻 🪕 🎵 🎶 🎙️ 📻 📱 📞 📟 📠 🔋 🔌 💡 💸 💵 💶 💷 💴 💰 💳 💎 ⚖️ 💼 👜 🎒 👔 👕 👖 👗 👘 🥻 🩱 🩳 🧥 🧤 🧣 🧢 👒 🎓 👑 💍 👓 🥽 💄 💋 👣 🧵 🧶 🪡 🧸 🪁 🪄 🎈 🎉 🎊 🎎 🎏 🎐 🪅 🪆 🎭 🖼️ 🧵 🧶 🪡 🧸 🪁 🪄 🎈 🎉 🎊 🎎 🎏 🎐 🪅 🪆 🎭 🖼️ 🗺️ 🧭 🧱 🪵 🍷 🍎 🍏 🍌 🍓 🍇 🍉 🍊 🍋 🥭 🍍 🥝 🥑 🍅 🍆 🥕 🌽 🌶️ 🥔 🧅 🧄 🥦 🥬 🥒 🫑 🍗 🍖 🥓 🍔 🍟 🍕 🌭 🥪 🌮 🌯 🍜 🍝 🍙 🍚 🍛 🍣 🍤 🍦 🍧 🍨 🍩 🍪 🎂 🍰 🧁 🍫 🍬 🍭 🍮 🍯 🍿 🧂 🧈 🍳 🧇 🥞 🥨 🥩 🥪 🥣 🥗 🍿 🥫 🥟 🦪 🍫 🍺 🍻 🥂 🍷 🥃 🍸 🍹 🧉 🧊 🥤 ☕ 🍵 🍶 🍼 🥛 🫖 🫘 ⚽ 🏀 🏈 ⚾ 🥎 🎾 🏐 🏉 🥏 🎳 🏏 🏑 🏒 🥍 🪁 🎣 🛶 🏊 🏄 🚴 🚵 🤸‍♀️ 🏋️‍♂️ 🏌️‍♂️ 🧘‍♀️ 🧗‍♂️ 🏇 🏂 ⛷️ ⛸️ 🏹 🎯 🎮 🎰 🚗 🚕 🚓 🚑 🚒 🚌 🚂 ✈️ 🚀 🚢 🚤 ⛵ 🚲 🛴 🛵 🛸 🛰️ 🚠 🚡 🚦 🚧 ⛽ 🗺️ 🏔️ 🌋 🏜️ 🏝️ 🏞️ 🏖️ 🏕️ 🛤️ 🌅 🌄 🌃 🌠 🎇 🎆 🌈 🌉 🏠 🏘️ 🏰 🏢 🏭 🗼 🗽 🗿"
   ]
  }
 ],
 "metadata": {
  "colab": {
   "provenance": []
  },
  "environment": {
   "kernel": "conda-base-py",
   "name": "workbench-notebooks.m129",
   "type": "gcloud",
   "uri": "us-docker.pkg.dev/deeplearning-platform-release/gcr.io/workbench-notebooks:m129"
  },
  "kernelspec": {
   "display_name": "Python 3 (ipykernel)",
   "language": "python",
   "name": "conda-base-py"
  },
  "language_info": {
   "codemirror_mode": {
    "name": "ipython",
    "version": 3
   },
   "file_extension": ".py",
   "mimetype": "text/x-python",
   "name": "python",
   "nbconvert_exporter": "python",
   "pygments_lexer": "ipython3",
   "version": "3.10.16"
  }
 },
 "nbformat": 4,
 "nbformat_minor": 4
}

{
  "nbformat": 4,
  "nbformat_minor": 0,
  "metadata": {
    "colab": {
      "provenance": []
    },
    "kernelspec": {
      "name": "python3",
      "display_name": "Python 3"
    },
    "language_info": {
      "name": "python"
    }
  },
  "cells": [
    {
      "cell_type": "markdown",
      "source": [
        "# **Imagen 3: Hands On Coding Lab Session**\n"
      ],
      "metadata": {
        "id": "ckAx2rBQFFa9"
      }
    },
    {
      "cell_type": "markdown",
      "source": [
        "## **Overview**\n",
        "\n",
        "### **Imagen 3: Google's Most Advanced Text-to-Image Model**\n",
        "Imagen 3 is the latest and most capable text-to-image generation model developed by Google DeepMind. It represents a significant leap forward from its predecessor, Imagen 2, focusing on enhanced prompt understanding, photorealism, and particularly, accurate text rendering within images.\n",
        "\n",
        "### **Agenda**\n",
        "\n",
        "In this lab session, you will learn how to use the Vertex AI SDK for Python to interact with the Imagen 3/Imagen 3 Fast models to generate images"
      ],
      "metadata": {
        "id": "KSyT_DAmGYhb"
      }
    },
    {
      "cell_type": "markdown",
      "source": [
        "## Section 1: **Setting Up**"
      ],
      "metadata": {
        "id": "ibe6-t9fFsxk"
      }
    },
    {
      "cell_type": "markdown",
      "source": [
        "### **Import downloaded libraries**\n",
        "\n",
        "The **Vertex AI SDK** for Python acts as a bridge between your Python codebase and Google Cloud Platform's (GCP) machine learning services. This makes it easy for you to access and utilize powerful Google AI models, like Imagen for generating images or Gemini for advanced language tasks, directly within your notebooks or other Python environments\n"
      ],
      "metadata": {
        "id": "x2lXxZfnLwca"
      }
    },
    {
      "cell_type": "code",
      "source": [
        "import vertexai\n",
        "from vertexai.preview.vision_models import ImageGenerationModel"
      ],
      "metadata": {
        "id": "nWe64xYju98p"
      },
      "execution_count": null,
      "outputs": []
    },
    {
      "cell_type": "markdown",
      "source": [
        "### **Setting Up Configurations**\n",
        "\n",
        "\n",
        "To use Vertex AI SDK, you will need a GCP Project with Vertex AI API enabled."
      ],
      "metadata": {
        "id": "gkftFZ65zejh"
      }
    },
    {
      "cell_type": "code",
      "source": [
        "PROJECT_ID = \"<your-project-id>\"\n",
        "LOCATION = \"<your-project-location>\" #default \"us-central1\""
      ],
      "metadata": {
        "id": "V1d9acBJvjzt"
      },
      "execution_count": null,
      "outputs": []
    },
    {
      "cell_type": "markdown",
      "source": [
        "### **Initialize Vertex AI**\n",
        "\n",
        "You need to initialize the Vertex AI SDK to configure it with your specific project ID, and location, to authenticate and communicate with the correct Google Cloud AI services."
      ],
      "metadata": {
        "id": "-yHwaY00y6u7"
      }
    },
    {
      "cell_type": "code",
      "source": [
        "vertexai.init()\n",
        "print(\"Vertex AI Initialized\")"
      ],
      "metadata": {
        "id": "qWKEognzy6Im",
        "colab": {
          "base_uri": "https://localhost:8080/"
        },
        "outputId": "0d7075be-66a0-485b-89ef-53ae95c4583f"
      },
      "execution_count": null,
      "outputs": [
        {
          "output_type": "stream",
          "name": "stdout",
          "text": [
            "Vertex AI Initialized\n"
          ]
        }
      ]
    },
    {
      "cell_type": "markdown",
      "source": [
        "## **Section 2: Creating Images**\n",
        "\n",
        "\n",
        "\n",
        "\n",
        "\n"
      ],
      "metadata": {
        "id": "RaxmiCPpzUyI"
      }
    },
    {
      "cell_type": "markdown",
      "source": [
        "### **Load AI Models**\n",
        "Here are the current Image Generation AI model you can use:\n",
        "\n",
        "*   Imagen 3 (latest version) : ```imagen-3.0-generate-002 ```\n",
        "*   Imagen 3 :  ```imagen-3.0-generate-001 ```\n",
        "*   Imagen 3 Fast: ```imagen-3.0-fast-generate-001```"
      ],
      "metadata": {
        "id": "bohNboAATGwi"
      }
    },
    {
      "cell_type": "code",
      "source": [
        "model_version = \"<model-version>\"\n",
        "\n",
        "model = ImageGenerationModel.from_pretrained(model_version)"
      ],
      "metadata": {
        "id": "MOoLHFQbvoEE"
      },
      "execution_count": null,
      "outputs": []
    },
    {
      "cell_type": "markdown",
      "source": [
        "### **Generate your first image**\n",
        "\n",
        "`generate_images() `function to create images. This function needs two parameters:\n",
        "\n",
        "- `prompt`: Tells AI what image to create\n",
        "- `number_of_images`: How many images to generate (up to 4)"
      ],
      "metadata": {
        "id": "DvxKmkcmPZ8p"
      }
    },
    {
      "cell_type": "code",
      "source": [
        "images = model.generate_images(\n",
        "    prompt=\"a pizza on a plate\",\n",
        "    number_of_images=1\n",
        ")\n",
        "\n",
        "images[0].show()"
      ],
      "metadata": {
        "id": "nTvb1vkXPagt"
      },
      "execution_count": null,
      "outputs": []
    },
    {
      "cell_type": "markdown",
      "source": [
        "### **Saving your image**"
      ],
      "metadata": {
        "id": "KYMezQrLC7DA"
      }
    },
    {
      "cell_type": "code",
      "source": [
        "#images[0].save(\"image_name.filetype\")"
      ],
      "metadata": {
        "id": "RhRFIhh1CM3f"
      },
      "execution_count": null,
      "outputs": []
    },
    {
      "cell_type": "markdown",
      "source": [
        "### **Exploring Parameters**\n",
        "\n",
        "\n",
        "\n",
        "\n",
        "You can use extra settings to get images exactly how you want them.\n",
        "Note: Optional Parameters only work for the `imagen-3.0-generate-001` and `imagen-3.0-fast-generate-001`\n",
        "\n",
        "\n",
        "\n",
        "\n",
        "\n",
        "\n",
        "\n",
        "\n",
        "**Imagen Model Parameters:**\n",
        "\n",
        "- `negative_prompt` : This tells our AI what not to include in our images. You can list out those things within this the parameter (e.g., \"blurry, text, ugly\").\n",
        "\n",
        "\n",
        "\n",
        "\n",
        "- `guidance_scale`: This controls how closely the AI sticks to your prompt. A higher value makes the AI follow your instructions very strictly. A lower value gives the AI more creative freedom. Here are the supported value ranges:\n",
        "  - Low values : 1-3  (The model will have more freedom in generating images, can produce more abstracts results)\n",
        "  - Medium values: 4-7 (Balanced range)\n",
        "  - High values: 8+ (The model will strictly follow the prompts)\n",
        "\n",
        "\n",
        "\n",
        "- `aspect_ratio`: Changes the aspect ratio of the generated image. Supported values are:\n",
        "  - 1:1 (default)\n",
        "  - 3:4\n",
        "  - 4:3\n",
        "  - 9:16\n",
        "  - 16:9\n",
        "\n",
        "\n"
      ],
      "metadata": {
        "id": "6DsptNnLEe_p"
      }
    },
    {
      "cell_type": "code",
      "source": [
        "supported_model = \"imagen-3.0-generate-001\"\n",
        "\n",
        "model = ImageGenerationModel.from_pretrained(supported_model)\n",
        "\n",
        "images = model.generate_images(\n",
        "  prompt=\"a pizza on a plate\",\n",
        "  number_of_images=2,\n",
        "\n",
        ")\n",
        "\n",
        "# Optional. View the generated image in a notebook.\n",
        "images[0].show()"
      ],
      "metadata": {
        "id": "9HC5Ab9ZEnq6"
      },
      "execution_count": null,
      "outputs": []
    },
    {
      "cell_type": "markdown",
      "source": [
        "## **Section 3: Responsible AI**"
      ],
      "metadata": {
        "id": "5eB9nud_Nk02"
      }
    },
    {
      "cell_type": "markdown",
      "source": [
        "### **SynthID Verification**"
      ],
      "metadata": {
        "id": "uYbet_oUDSey"
      }
    },
    {
      "cell_type": "code",
      "source": [
        "import vertexai\n",
        "from vertexai.preview.vision_models import WatermarkVerificationModel\n",
        "\n",
        "verification_model = WatermarkVerificationModel.from_pretrained(\n",
        "    \"imageverification@001\"\n",
        ")\n",
        "\n",
        "watermark_verification_response = verification_model.verify_image(images[0])\n",
        "\n",
        "if (watermark_verification_response.watermark_verification_result == \"ACCEPT\"):\n",
        "    print(\"This picture is AI Generated\")\n",
        "else:\n",
        "    print(\"This picture is real\")"
      ],
      "metadata": {
        "colab": {
          "base_uri": "https://localhost:8080/"
        },
        "id": "lw7Ajy-MlLwq",
        "outputId": "870311a2-4f49-4206-bd30-d1d6ecd4d485"
      },
      "execution_count": 38,
      "outputs": [
        {
          "output_type": "stream",
          "name": "stdout",
          "text": [
            "This picture is AI Generated\n"
          ]
        }
      ]
    },
    {
      "cell_type": "code",
      "source": [
        "from vertexai.preview.vision_models import Image\n",
        "\n",
        "filepath = \"\"\n",
        "img = Image.load_from_file(filepath)\n",
        "\n",
        "watermark_verification_response = verification_model.verify_image(img)\n",
        "\n",
        "print(watermark_verification_response.watermark_verification_result)"
      ],
      "metadata": {
        "colab": {
          "base_uri": "https://localhost:8080/"
        },
        "id": "A8i6m8p1u0A2",
        "outputId": "7784090f-fd39-4354-f764-67f53f67fb77"
      },
      "execution_count": null,
      "outputs": [
        {
          "output_type": "stream",
          "name": "stdout",
          "text": [
            "REJECT\n"
          ]
        }
      ]
    },
    {
      "cell_type": "markdown",
      "source": [
        "## **Lab Activity: Emoji Scene Maker**\n",
        "\n",
        "\n",
        "In this fun and creative lab activity, we’ll be building an Emoji Scene Generator! Since Imagen 3 doesn’t quite understand emojis on its own, we’ll get a little help from another awesome Google AI model — Gemini — to bring our emoji-inspired scenes to life. Let’s explore how we can combine the power of different AI tools to turn simple emojis into vivid image prompts!"
      ],
      "metadata": {
        "id": "R3adE3lJDxNd"
      }
    },
    {
      "cell_type": "markdown",
      "source": [
        "## Step 1: Importing Libraries\n",
        "\n"
      ],
      "metadata": {
        "id": "cdIqSZALpsk5"
      }
    },
    {
      "cell_type": "code",
      "source": [],
      "metadata": {
        "id": "3rl7h05gpy_O"
      },
      "execution_count": null,
      "outputs": []
    },
    {
      "cell_type": "markdown",
      "source": [
        "## Step 2: Configurations"
      ],
      "metadata": {
        "id": "l9fglLrdrqIY"
      }
    },
    {
      "cell_type": "code",
      "source": [],
      "metadata": {
        "id": "CFHN41WUrzwz"
      },
      "execution_count": null,
      "outputs": []
    },
    {
      "cell_type": "markdown",
      "source": [
        "## Step 3: Initialize and Load Models"
      ],
      "metadata": {
        "id": "P16JwvVmr0N2"
      }
    },
    {
      "cell_type": "code",
      "source": [],
      "metadata": {
        "id": "HVwgLAXtyhZH"
      },
      "execution_count": null,
      "outputs": []
    },
    {
      "cell_type": "markdown",
      "source": [
        "## Step 4: Create Interface Widgets\n"
      ],
      "metadata": {
        "id": "QRlI26WlytER"
      }
    },
    {
      "cell_type": "code",
      "source": [],
      "metadata": {
        "id": "raY9_pQlI-ke"
      },
      "execution_count": null,
      "outputs": []
    },
    {
      "cell_type": "markdown",
      "source": [
        "## Step 6 : Declare Functions for Text and Image Generation"
      ],
      "metadata": {
        "id": "VIOwoz91yhxz"
      }
    },
    {
      "cell_type": "code",
      "source": [],
      "metadata": {
        "id": "nlj_sK5hysv7"
      },
      "execution_count": null,
      "outputs": []
    },
    {
      "cell_type": "markdown",
      "source": [
        "## Final Step : Run your interface!"
      ],
      "metadata": {
        "id": "9RmC6U2DKx3U"
      }
    },
    {
      "cell_type": "code",
      "source": [],
      "metadata": {
        "id": "bSlAPvHyKxCZ"
      },
      "execution_count": null,
      "outputs": []
    }
  ]
}